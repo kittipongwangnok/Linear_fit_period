{
 "cells": [
  {
   "cell_type": "code",
   "execution_count": 1,
   "id": "71fe060c",
   "metadata": {},
   "outputs": [],
   "source": [
    "#Import module\n",
    "import sys\n",
    "import os\n",
    "import numpy as np\n",
    "import matplotlib.pyplot as plt\n",
    "from scipy.optimize import curve_fit\n",
    "from scipy import stats\n",
    "import scipy.optimize as optimization  \n",
    "import pandas as pd\n",
    "#Latex font\n",
    "import matplotlib as mpl\n",
    "from matplotlib import rc\n",
    "plt.rc('text', usetex=True)\n",
    "plt.rc('font', family='serif',size=16)"
   ]
  },
  {
   "cell_type": "code",
   "execution_count": 2,
   "id": "9bc54d64",
   "metadata": {},
   "outputs": [
    {
     "name": "stdout",
     "output_type": "stream",
     "text": [
      "2022_Feb_week4_Linear_fit_period.dat\r\n",
      "2022_Feb_week4_Linear_fit_period.ipynb\r\n",
      "2022_Feb_week4_Linear_fit_period_Sine_fit.py\r\n",
      "2022_Feb_week4_Linear_fit_period_lmfit.ipynb\r\n",
      "2022_Feb_week4_Linear_fit_period_weighted_data.ipynb\r\n",
      "2022_Feb_week4_Mean_calculation_T0_combined.txt\r\n",
      "2022_Feb_week4_OC_diagram.jpg\r\n",
      "2022_Feb_week4_OC_diagram.out\r\n",
      "2022_Feb_week4_new_ephemeris_sin_fit.ipynb\r\n",
      "2022_Feb_week4_new_ephemeris_sin_fit.out\r\n",
      "2022_Feb_week4_new_ephemeris_sin_fit_lmfit.ipynb\r\n",
      "2022_Feb_week4_new_ephemeris_sin_fit_mean_data.ipynb\r\n",
      "2022_Feb_week4_new_ephemeris_sin_fit_weight_data.txt\r\n",
      "interporate.out\r\n"
     ]
    }
   ],
   "source": [
    "ls"
   ]
  },
  {
   "cell_type": "code",
   "execution_count": 3,
   "id": "dd1426f7",
   "metadata": {},
   "outputs": [
    {
     "data": {
      "image/png": "[encoded data removed]",
      "text/plain": [
       "<Figure size 720x360 with 1 Axes>"
      ]
     },
     "metadata": {
      "needs_background": "light"
     },
     "output_type": "display_data"
    }
   ],
   "source": [
    "#Plot O-C vs BJD\n",
    "Input  = '2022_Feb_week4_Mean_calculation_T0_combined.txt'\n",
    "Data   = np.genfromtxt(Input)\n",
    "\n",
    "\n",
    "BJD_time = Data[:,0]\n",
    "OC_s = Data[:,1]\n",
    "OC_s_err = Data[:,2]\n",
    "\n",
    " ##Plotgraph\n",
    "fig=plt.figure(figsize=(10, 5), tight_layout=True)\n",
    "plt.tick_params(direction='in', which='both', bottom='on',top='on', right = 'on')\n",
    "\n",
    "x1 = min(BJD_time)\n",
    "x2 = max(BJD_time)\n",
    "#plt.errorbar(BJD_time, OC_s, yerr=OC_s_err, fmt='o', color='limegreen')\n",
    "plt.errorbar(BJD_time, OC_s, yerr= OC_s_err, fmt='o', markersize=8, color='green',\n",
    "                    ecolor='lightgray')\n",
    "\n",
    "#Schwope_2002\n",
    "#plt.text(BJD_time_Schwope_2002[0], 300, '1979')\n",
    "#plt.text(BJD_time_Schwope_2002[3], 300, '1981')\n",
    "#plt.text(BJD_time_Schwope_2002[13], 300, '1984')\n",
    "#plt.text(BJD_time_Schwope_2002[17], 300, '1985')\n",
    "#plt.text(BJD_time_Schwope_2002[19]-100, 300, '1991')\n",
    "#plt.text(BJD_time_Schwope_2002[20], 300, '1992')\n",
    "#plt.text(BJD_time_Schwope_2002[22], 300, '1993')\n",
    "#plt.text(BJD_time_Schwope_2002[30], 300, '2000')\n",
    "#plt.text(BJD_time_Schwope_2002[32], 300, '2002')\n",
    "\n",
    "#plt.hlines(y= 0, xmin= x1, xmax= x2, colors='k', linestyles='dotted')\n",
    "#plt.xlim(x1,x2)\n",
    "#plt.ylim(-20,20)\n",
    "plt.xlabel('BJD - 2450000')\n",
    "plt.ylabel('O-C (sec)')\n",
    "#plt.legend()\n",
    "plt.grid(linestyle='dotted')\n",
    "######plt.title('O-C diagram: DP Leo')\n",
    "#output_filename = os.path.splitext(__file__)[0] + '.png'\n",
    "#plt.savefig(output_filename, dpi=1000)\n",
    "plt.savefig(\"2022_Feb_week4_OC_diagram.jpg\", dpi=1000)\n",
    "plt.show()"
   ]
  },
  {
   "cell_type": "code",
   "execution_count": 4,
   "id": "6c0d04e1",
   "metadata": {},
   "outputs": [],
   "source": [
    "T0_bjd = 2448773.214849387\n",
    "T0_bjd_err = 2.9890246655224374e-09\n",
    "P0_day = 0.062362845136031624\n",
    "P0_day_err = 2.839163568630105e-19"
   ]
  },
  {
   "cell_type": "code",
   "execution_count": 5,
   "id": "d0b20cf2",
   "metadata": {},
   "outputs": [],
   "source": [
    "#Read data ---#1\n",
    "Input = \"2022_Feb_week4_Mean_calculation_T0_combined.txt\"\n",
    "Data   = np.genfromtxt(Input)\n",
    "\n",
    "Epoch = (Data[:,0] - 48773.214849387)/P0_day\n",
    "OC = Data[:,1]\n",
    "OC_err = Data[:,2]"
   ]
  },
  {
   "cell_type": "code",
   "execution_count": 6,
   "id": "5994315a",
   "metadata": {},
   "outputs": [
    {
     "name": "stdout",
     "output_type": "stream",
     "text": [
      "25\n"
     ]
    }
   ],
   "source": [
    "x = Epoch\n",
    "y = OC\n",
    "dy = OC_err\n",
    "\n",
    "len_x = len(x)\n",
    "print(len_x)"
   ]
  },
  {
   "cell_type": "code",
   "execution_count": 7,
   "id": "12a86974",
   "metadata": {},
   "outputs": [],
   "source": [
    "def sin_fit(x, a, b, c, d):\n",
    "    return a*np.sin(b*x - c) + d"
   ]
  },
  {
   "cell_type": "code",
   "execution_count": 8,
   "id": "026e0f5f",
   "metadata": {},
   "outputs": [
    {
     "name": "stdout",
     "output_type": "stream",
     "text": [
      "The parameters of egress part\n",
      "a = 43.12231264442203 +/- 4.7521364789694305\n",
      "b = 3.541625173939323e-05 +/- 1.2411411439303868e-06\n",
      "c = -146.87784431919164 +/- 0.1216846580862285\n",
      "d = -12.897810666388137 +/- 3.823365993590052\n"
     ]
    }
   ],
   "source": [
    "guess = [43.9455, 0.0000324289, -145.235, -5.46613]\n",
    "params, params_covariance = optimization.curve_fit(sin_fit, x, y, guess)\n",
    "\n",
    "a = params[0]\n",
    "b = params[1]\n",
    "c = params[2]\n",
    "d = params[3]\n",
    "\n",
    "\n",
    "da = params_covariance[0,0]\n",
    "db = params_covariance[1,1]\n",
    "dc = params_covariance[2,2]\n",
    "dd = params_covariance[3,3]\n",
    "\n",
    "output_fit = sin_fit(x, a, b, c, d)\n",
    "\n",
    "\n",
    "print(\"The parameters of egress part\")\n",
    "print(\"a =\", a, \"+/-\", da**0.5)\n",
    "print(\"b =\", b, \"+/-\", db**0.5)\n",
    "print(\"c =\", c, \"+/-\", dc**0.5)\n",
    "print(\"d =\", d, \"+/-\", dd**0.5)"
   ]
  },
  {
   "cell_type": "code",
   "execution_count": 9,
   "id": "691b5ae4",
   "metadata": {},
   "outputs": [
    {
     "name": "stdout",
     "output_type": "stream",
     "text": [
      "[-27.35873019  29.80320409 -14.99184299  10.83509791 -40.95627359\n",
      "  -8.22717781 -13.89340772 -64.8024844  -62.60040635 -23.83504139\n",
      "  -8.90758363   5.06578992  17.67694845  18.76774657  31.74153658\n",
      "  32.20686515  26.16889782   9.16145441  30.73564543  26.61523547\n",
      "  24.81530073  14.8036839    9.95642822   7.46978532  11.26808088]\n",
      "977.3799574949985\n"
     ]
    }
   ],
   "source": [
    "x_min, x_max = np.amin(x), np.amax(x)\n",
    "x_line = np.linspace(x_min, x_max, len_x)\n",
    "y_line = sin_fit(x_line, *params)\n",
    "Res = y - y_line\n",
    "print(Res)\n",
    "\n",
    "#Reduced_chisqrt\n",
    "m = 4\n",
    "dof = len_x - m\n",
    "Chi_sqr = ((y - y_line)**2/(dy)**2)/dof\n",
    "Reduced_chisq = sum(Chi_sqr)\n",
    "print(Reduced_chisq)"
   ]
  },
  {
   "cell_type": "code",
   "execution_count": 10,
   "id": "8e6e9562",
   "metadata": {},
   "outputs": [
    {
     "data": {
      "image/png": "[encoded data removed]",
      "text/plain": [
       "<Figure size 1080x360 with 1 Axes>"
      ]
     },
     "metadata": {
      "needs_background": "light"
     },
     "output_type": "display_data"
    }
   ],
   "source": [
    "#Plotgraph\n",
    "fig=plt.figure(figsize=(15, 5))\n",
    "plt.errorbar(x, y, yerr= dy, fmt='o', markersize=8, color='blue', ecolor='lightgray')\n",
    "# create a line plot for the mapping function\n",
    "plt.plot(x_line, y_line, '-', color='red')\n",
    "#plt.plot(BJD_time, OC_s_ecc, lw=2, color='black')\n",
    "#plt.xlim(-6000,6000)\n",
    "#plt.ylim(-200,200)\n",
    "#plt.ylim(-40,60)\n",
    "plt.xlabel('Epoch')\n",
    "plt.ylabel('O-C (sec)')\n",
    "plt.grid(linestyle='dotted')\n",
    "#####plt.title('O-C diagram: DP Leo')\n",
    "#output_filename = os.path.splitext(__file__)[0] + '.png'\n",
    "#plt.savefig(output_filename, dpi=1000)\n",
    "plt.show()"
   ]
  },
  {
   "cell_type": "code",
   "execution_count": null,
   "id": "5965d8e8",
   "metadata": {},
   "outputs": [],
   "source": []
  }
 ],
 "metadata": {
  "kernelspec": {
   "display_name": "Python 3 (ipykernel)",
   "language": "python",
   "name": "python3"
  },
  "language_info": {
   "codemirror_mode": {
    "name": "ipython",
    "version": 3
   },
   "file_extension": ".py",
   "mimetype": "text/x-python",
   "name": "python",
   "nbconvert_exporter": "python",
   "pygments_lexer": "ipython3",
   "version": "3.9.7"
  }
 },
 "nbformat": 4,
 "nbformat_minor": 5
}
