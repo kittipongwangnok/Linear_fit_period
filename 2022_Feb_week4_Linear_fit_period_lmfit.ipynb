{
 "cells": [
  {
   "cell_type": "code",
   "execution_count": 1,
   "id": "45d06469",
   "metadata": {},
   "outputs": [],
   "source": [
    "#Import module\n",
    "import sys\n",
    "import os\n",
    "import numpy as np\n",
    "import matplotlib.pyplot as plt\n",
    "from scipy.optimize import curve_fit\n",
    "from scipy import stats\n",
    "import scipy.optimize as optimization  \n",
    "from lmfit import Parameters,minimize, fit_report\n",
    "#Latex font\n",
    "import matplotlib as mpl\n",
    "from matplotlib import rc\n",
    "plt.rc('text', usetex=True)\n",
    "plt.rc('font', family='serif',size=16)"
   ]
  },
  {
   "cell_type": "code",
   "execution_count": 2,
   "id": "1a10a354",
   "metadata": {},
   "outputs": [
    {
     "name": "stdout",
     "output_type": "stream",
     "text": [
      "2022_Feb_week4_Linear_fit_period.dat\r\n",
      "2022_Feb_week4_Linear_fit_period.ipynb\r\n",
      "2022_Feb_week4_Linear_fit_period_Sine_fit.py\r\n",
      "2022_Feb_week4_Linear_fit_period_lmfit.ipynb\r\n",
      "2022_Feb_week4_Linear_fit_period_weighted_data.ipynb\r\n",
      "2022_Feb_week4_Mean_calculation_T0_combined.txt\r\n",
      "2022_Feb_week4_OC_diagram.jpg\r\n",
      "2022_Feb_week4_OC_diagram.out\r\n",
      "2022_Feb_week4_new_ephemeris_sin_fit.ipynb\r\n",
      "2022_Feb_week4_new_ephemeris_sin_fit.out\r\n",
      "2022_Feb_week4_new_ephemeris_sin_fit_mean_data.ipynb\r\n",
      "2022_Feb_week4_new_ephemeris_sin_fit_weight_data.txt\r\n",
      "interporate.out\r\n"
     ]
    }
   ],
   "source": [
    "ls"
   ]
  },
  {
   "cell_type": "code",
   "execution_count": 3,
   "id": "82cfdb3e",
   "metadata": {},
   "outputs": [],
   "source": [
    "#Read data ---#1\n",
    "Input = \"2022_Feb_week4_Linear_fit_period.dat\"\n",
    "Data   = np.genfromtxt(Input)\n",
    "\n",
    "#Input calculation ---#1\n",
    "N = 2450000\n",
    "\n",
    "Epoch = Data[:,0]\n",
    "T_obs = Data[:,1]\n",
    "T_obs_err = Data[:,2]"
   ]
  },
  {
   "cell_type": "code",
   "execution_count": 4,
   "id": "a60c2f75",
   "metadata": {},
   "outputs": [
    {
     "data": {
      "image/png": "[encoded data removed]",
      "text/plain": [
       "<Figure size 720x360 with 1 Axes>"
      ]
     },
     "metadata": {
      "needs_background": "light"
     },
     "output_type": "display_data"
    }
   ],
   "source": [
    "fig, (ax0) = plt.subplots(1, 1, sharex=True, sharey=False, figsize=(10, 5), tight_layout=True)\n",
    "#plt.xlim(-0.04,0.04)\n",
    "#plt.xlabel('Orbital phase')\n",
    "\n",
    "ax0.tick_params(direction='in', which='both', bottom='on',top='on', right = 'on')\n",
    "#ax1.tick_params(direction='in', which='both', bottom='on',top='on', right = 'on')\n",
    "\n",
    "ax0.errorbar(Epoch, T_obs, yerr= T_obs_err, fmt='o', color='blue',\n",
    "             ecolor='lightgray', elinewidth=1, capsize=0)\n",
    "\n",
    "\n",
    "#ax0.legend(loc=\"best\")\n",
    "ax0.set_xlabel('E')\n",
    "ax0.set_ylabel('$T_{E}$')\n",
    "\n",
    "#ax0.set_ylim(-30, 40)\n",
    "\n",
    "fig.align_ylabels()\n",
    "#output_filename = os.path.splitext(__file__)[0] + '.png'\n",
    "#plt.savefig(output_filename, dpi=1000)\n",
    "#plt.savefig(\"spot_longitude_Beuermann_Kittipong.png\")\n",
    "plt.show()"
   ]
  },
  {
   "cell_type": "code",
   "execution_count": 8,
   "id": "03968769",
   "metadata": {},
   "outputs": [],
   "source": [
    "x = Epoch\n",
    "y = T_obs\n",
    "dy = T_obs_err"
   ]
  },
  {
   "cell_type": "code",
   "execution_count": 9,
   "id": "8064b3ad",
   "metadata": {},
   "outputs": [],
   "source": [
    "# Define the fitting function\n",
    "def linear_fitting_lmfit(params,x,y):\n",
    "    m = params['m']\n",
    "    c = params['c']\n",
    "    y_fit = m*x + c\n",
    "    return y_fit-y"
   ]
  },
  {
   "cell_type": "code",
   "execution_count": 10,
   "id": "d0485884",
   "metadata": {},
   "outputs": [],
   "source": [
    "# Defining the various parameters\n",
    "params = Parameters()\n",
    "# Slope is bounded between min value of 1.0 and max value of 3.0\n",
    "params.add('m', min=0.05, max=0.07)\n",
    "# Intercept is made fixed at 0.0 value\n",
    "params.add('c', value=2448773.214849387, vary = True)"
   ]
  },
  {
   "cell_type": "code",
   "execution_count": 11,
   "id": "06a81f34",
   "metadata": {},
   "outputs": [],
   "source": [
    "# Calling the minimize function. Args contains the x and y data.\n",
    "fitted_params = minimize(linear_fitting_lmfit, params, args=(x,y,), method='least_squares')"
   ]
  },
  {
   "cell_type": "code",
   "execution_count": 12,
   "id": "31d01690",
   "metadata": {},
   "outputs": [],
   "source": [
    "# Getting the fitted values\n",
    "m = fitted_params.params['m'].value\n",
    "c = fitted_params.params['c'].value    "
   ]
  },
  {
   "cell_type": "code",
   "execution_count": 13,
   "id": "0169135d",
   "metadata": {},
   "outputs": [
    {
     "name": "stdout",
     "output_type": "stream",
     "text": [
      "The slope (m) is  0.06236284513565314\n",
      "The intercept (c) is  2448773.214849415\n"
     ]
    }
   ],
   "source": [
    "# Printing the fitted values\n",
    "print('The slope (m) is ', m)\n",
    "print('The intercept (c) is ', c)"
   ]
  },
  {
   "cell_type": "code",
   "execution_count": 14,
   "id": "cd42d55a",
   "metadata": {},
   "outputs": [
    {
     "name": "stdout",
     "output_type": "stream",
     "text": [
      "[[Fit Statistics]]\n",
      "    # fitting method   = least_squares\n",
      "    # function evals   = 7\n",
      "    # data points      = 114\n",
      "    # variables        = 2\n",
      "    chi-square         = 1.8386e-05\n",
      "    reduced chi-square = 1.6416e-07\n",
      "    Akaike info crit   = -1778.97231\n",
      "    Bayesian info crit = -1773.49991\n",
      "[[Variables]]\n",
      "    m:  0.06236285 +/- 5.3284e-10 (0.00%) (init = 0.05)\n",
      "    c:  2448773.21 +/- 5.4672e-05 (0.00%) (init = 2448773)\n",
      "[[Correlations]] (unreported correlations are < 0.100)\n",
      "    C(m, c) = -0.720\n"
     ]
    }
   ],
   "source": [
    "# Pretty printing all the statistical data\n",
    "print(fit_report(fitted_params))"
   ]
  },
  {
   "cell_type": "code",
   "execution_count": 18,
   "id": "2a912568",
   "metadata": {},
   "outputs": [
    {
     "data": {
      "image/png": "[encoded data removed]",
      "text/plain": [
       "<Figure size 720x360 with 1 Axes>"
      ]
     },
     "metadata": {
      "needs_background": "light"
     },
     "output_type": "display_data"
    }
   ],
   "source": [
    "#Plotgraph\n",
    "fig=plt.figure(figsize=(10, 5))\n",
    "plt.errorbar(x, y, yerr= dy, fmt='o', markersize=8, color='blue', ecolor='lightgray')\n",
    "# create a line plot for the mapping function\n",
    "\n",
    "plt.plot(x, m*x+c,c='red',ls='-',lw=1)\n",
    "\n",
    "\n",
    "#plt.plot(x_line, y_line, '-', color='red')\n",
    "#plt.plot(BJD_time, OC_s_ecc, lw=2, color='black')\n",
    "#plt.xlim(-6000,6000)\n",
    "#plt.ylim(-200,200)\n",
    "#plt.ylim(-40,60)\n",
    "plt.xlabel('Epoch')\n",
    "ax0.set_ylabel('$T_{E}$')\n",
    "plt.grid(linestyle='dotted')\n",
    "#####plt.title('O-C diagram: DP Leo')\n",
    "#output_filename = os.path.splitext(__file__)[0] + '.png'\n",
    "#plt.savefig(output_filename, dpi=1000)\n",
    "plt.show()"
   ]
  },
  {
   "cell_type": "code",
   "execution_count": null,
   "id": "3bba7c15",
   "metadata": {},
   "outputs": [],
   "source": []
  }
 ],
 "metadata": {
  "kernelspec": {
   "display_name": "Python 3 (ipykernel)",
   "language": "python",
   "name": "python3"
  },
  "language_info": {
   "codemirror_mode": {
    "name": "ipython",
    "version": 3
   },
   "file_extension": ".py",
   "mimetype": "text/x-python",
   "name": "python",
   "nbconvert_exporter": "python",
   "pygments_lexer": "ipython3",
   "version": "3.9.7"
  }
 },
 "nbformat": 4,
 "nbformat_minor": 5
}
