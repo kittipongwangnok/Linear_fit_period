{
 "cells": [
  {
   "cell_type": "code",
   "execution_count": 1,
   "id": "8afe6976",
   "metadata": {},
   "outputs": [],
   "source": [
    "#Import module\n",
    "import sys\n",
    "import os\n",
    "import numpy as np\n",
    "import matplotlib.pyplot as plt\n",
    "from scipy.optimize import curve_fit\n",
    "from scipy import stats\n",
    "import scipy.optimize as optimization  \n",
    "from lmfit import Parameters,minimize, fit_report\n",
    "#Latex font\n",
    "import matplotlib as mpl\n",
    "from matplotlib import rc\n",
    "plt.rc('text', usetex=True)\n",
    "plt.rc('font', family='serif',size=16)"
   ]
  },
  {
   "cell_type": "code",
   "execution_count": 2,
   "id": "b5d6f663",
   "metadata": {},
   "outputs": [
    {
     "name": "stdout",
     "output_type": "stream",
     "text": [
      "2022_Feb_week4_Linear_fit_period.dat\r\n",
      "2022_Feb_week4_Linear_fit_period.ipynb\r\n",
      "2022_Feb_week4_Linear_fit_period_Sine_fit.py\r\n",
      "2022_Feb_week4_Linear_fit_period_lmfit.ipynb\r\n",
      "2022_Feb_week4_Linear_fit_period_weighted_data.ipynb\r\n",
      "2022_Feb_week4_Mean_calculation_T0_combined.txt\r\n",
      "2022_Feb_week4_OC_diagram.jpg\r\n",
      "2022_Feb_week4_OC_diagram.out\r\n",
      "2022_Feb_week4_new_ephemeris_sin_fit.ipynb\r\n",
      "2022_Feb_week4_new_ephemeris_sin_fit.out\r\n",
      "2022_Feb_week4_new_ephemeris_sin_fit_lmfit.ipynb\r\n",
      "2022_Feb_week4_new_ephemeris_sin_fit_mean_data.ipynb\r\n",
      "2022_Feb_week4_new_ephemeris_sin_fit_weight_data.txt\r\n",
      "interporate.out\r\n"
     ]
    }
   ],
   "source": [
    "ls"
   ]
  },
  {
   "cell_type": "code",
   "execution_count": 3,
   "id": "fefa1a4d",
   "metadata": {},
   "outputs": [],
   "source": [
    "DP_Leo = open(\"2022_Feb_week4_Linear_fit_period.dat\",'r').readlines()\n",
    "N_dpleo = len(DP_Leo)\n",
    "\n",
    "#Read datat\n",
    "Cycle = []\n",
    "T_obs = []\n",
    "T_obs_err = []\n",
    "#Please change the input file\n",
    "for line in open(\"2022_Feb_week4_Linear_fit_period.dat\"):\n",
    "    li=line.strip()\n",
    "    if not li.startswith(\"#\"):\n",
    "        Cycle.append(float(li.split(\"\\t\")[0]))\n",
    "        T_obs.append(float(li.split(\"\\t\")[1]))\n",
    "        T_obs_err.append(float(li.split(\"\\t\")[2]))"
   ]
  },
  {
   "cell_type": "code",
   "execution_count": 4,
   "id": "700eb7ac",
   "metadata": {},
   "outputs": [],
   "source": [
    "T0_bjd = 2448773.2148535196\n",
    "T0_bjd_err = 2.9382757275464414e-09\n",
    "P0_day = 0.062362845501702645\n",
    "P0_day_err = 2.587983620097543e-19"
   ]
  },
  {
   "cell_type": "code",
   "execution_count": 5,
   "id": "f2a26eef",
   "metadata": {},
   "outputs": [],
   "source": [
    "#Arrays\n",
    "BJD_time_a = [i for i in range(N_dpleo)]\n",
    "Delta_aT = [i for i in range(N_dpleo)]\n",
    "Delta_aT_err = [i for i in range(N_dpleo)]\n",
    "E_af = [i for i in range(N_dpleo)] #float number\n",
    "E_ak = [i for i in range(N_dpleo)] #integer number\n",
    "E_aj = [i for i in range(N_dpleo)] #integer number\n",
    "P_aE = [i for i in range(N_dpleo)]\n",
    "P_err_aE = [i for i in range(N_dpleo)]\n",
    "T_aC_linear = [i for i in range(N_dpleo)]\n",
    "T_aO_linear = [i for i in range(N_dpleo)]\n",
    "P_aver_a = [i for i in range(N_dpleo)]\n",
    "P_aver_std_a = [i for i in range(N_dpleo)]"
   ]
  },
  {
   "cell_type": "code",
   "execution_count": 6,
   "id": "05a72780",
   "metadata": {},
   "outputs": [
    {
     "name": "stdout",
     "output_type": "stream",
     "text": [
      "No. \t BJD_time \t Cycle \t T_O_linear \t T_C_linear \t OC_s \t\t OC_s_err\n",
      "0\t2444214.553250\t-73099\t2444214.553250\t2444214.553210\t3.439531\t14.687746\n",
      "1\t2444214.615620\t-73098\t2444214.615620\t2444214.615573\t4.057673\t14.687746\n",
      "2\t2444214.677980\t-73097\t2444214.677980\t2444214.677936\t3.811848\t14.687746\n",
      "3\t2444968.023090\t-61017\t2444968.023090\t2444968.021110\t171.111524\t100.223746\n",
      "4\t2444968.957120\t-61002\t2444968.957120\t2444968.956552\t49.055779\t100.223746\n",
      "5\t2444969.019620\t-61001\t2444969.019620\t2444969.018915\t60.905926\t100.223746\n",
      "6\t2444978.997550\t-60841\t2444978.997550\t2444978.996970\t50.081724\t100.223746\n",
      "7\t2444993.900780\t-60602\t2444993.900780\t2444993.901690\t-78.660768\t59.615746\n",
      "8\t2444993.963280\t-60601\t2444993.963280\t2444993.964053\t-66.810621\t59.615746\n",
      "9\t2444994.026420\t-60600\t2444994.026420\t2444994.026416\t0.335544\t59.615746\n",
      "10\t2445020.905130\t-60169\t2445020.905130\t2445020.904803\t28.293590\t19.871746\n",
      "11\t2445021.902920\t-60153\t2445021.902920\t2445021.902608\t26.951976\t19.871746\n",
      "12\t2445024.833860\t-60106\t2445024.833860\t2445024.833662\t17.124993\t59.615746\n",
      "13\t2445731.966400\t-48767\t2445731.966400\t2445731.965967\t37.416534\t30.239746\n",
      "14\t2445763.833730\t-48256\t2445763.833730\t2445763.833381\t30.154534\t5.183746\n",
      "15\t2445854.882800\t-46796\t2445854.882800\t2445854.883135\t-28.980450\t100.223746\n",
      "16\t2446054.942310\t-43588\t2446054.942310\t2446054.943144\t-72.039601\t100.223746\n",
      "17\t2446086.935650\t-43075\t2446086.935650\t2446086.935284\t31.662673\t2.591746\n",
      "18\t2446086.997960\t-43074\t2446086.997960\t2446086.997646\t27.096815\t2.591746\n",
      "19\t2448560.557800\t-3410\t2448560.557800\t2448560.557550\t21.569024\t4.319746\n",
      "20\t2448773.215090\t1\t2448773.215090\t2448773.214854\t20.431915\t5.183746\n",
      "21\t2448774.212930\t16\t2448774.212930\t2448774.212659\t23.410293\t5.183746\n",
      "22\t2449137.912940\t5848\t2449137.912940\t2449137.912774\t14.341262\t5.183746\n",
      "23\t2449143.962140\t5945\t2449143.962140\t2449143.961970\t14.685658\t5.183746\n",
      "24\t2449144.024380\t5946\t2449144.024380\t2449144.024333\t4.071794\t5.183746\n",
      "25\t2449144.086890\t5947\t2449144.086890\t2449144.086696\t16.785948\t5.183746\n",
      "26\t2449144.960050\t5961\t2449144.960050\t2449144.959776\t23.712002\t5.183746\n",
      "27\t2449145.022350\t5962\t2449145.022350\t2449145.022138\t18.282178\t5.183746\n",
      "28\t2449145.084540\t5963\t2449145.084540\t2449145.084501\t3.348322\t5.183746\n",
      "29\t2449145.147110\t5964\t2449145.147110\t2449145.146864\t21.246475\t5.183746\n",
      "30\t2451870.776880\t49670\t2451870.776880\t2451870.777390\t-44.028528\t5.183746\n",
      "31\t2451870.901630\t49672\t2451870.901630\t2451870.902115\t-41.928197\t5.183746\n",
      "32\t2452284.679000\t56307\t2452284.679000\t2452284.679595\t-51.423901\t0.863746\n",
      "33\t2452284.678950\t56307\t2452284.678950\t2452284.679595\t-55.743894\t5.183746\n",
      "34\t2452284.741360\t56308\t2452284.741360\t2452284.741958\t-51.669766\t1.727746\n",
      "35\t2454914.832280\t98482\t2454914.832280\t2454914.832604\t-28.012441\t0.863746\n",
      "36\t2454914.894660\t98483\t2454914.894660\t2454914.894967\t-26.530293\t0.863746\n",
      "37\t2454916.827930\t98514\t2454916.827930\t2454916.828215\t-24.647704\t1.727746\n",
      "38\t2454919.696600\t98560\t2454919.696600\t2454919.696906\t-26.452884\t1.727746\n",
      "39\t2454920.756780\t98577\t2454920.756780\t2454920.757075\t-25.448343\t1.727746\n",
      "40\t2454922.627670\t98607\t2454922.627670\t2454922.627960\t-25.047903\t1.727746\n",
      "41\t2454922.690020\t98608\t2454922.690020\t2454922.690323\t-26.157734\t0.863746\n",
      "42\t2454922.752370\t98609\t2454922.752370\t2454922.752686\t-27.267605\t0.863746\n",
      "43\t2454922.814730\t98610\t2454922.814730\t2454922.815048\t-27.513430\t0.863746\n",
      "44\t2454937.781830\t98850\t2454937.781830\t2454937.782131\t-26.037718\t1.727746\n",
      "45\t2454937.844200\t98851\t2454937.844200\t2454937.844494\t-25.419576\t0.863746\n",
      "46\t2454938.717290\t98865\t2454938.717290\t2454938.717574\t-24.541529\t1.727746\n",
      "47\t2454938.779610\t98866\t2454938.779610\t2454938.779937\t-28.243379\t0.863746\n",
      "48\t2454940.650510\t98896\t2454940.650510\t2454940.650822\t-26.978892\t2.591746\n",
      "49\t2454940.712870\t98897\t2454940.712870\t2454940.713185\t-27.224757\t0.863746\n",
      "50\t2454940.775240\t98898\t2454940.775240\t2454940.775548\t-26.606615\t2.591746\n",
      "51\t2454940.837640\t98899\t2454940.837640\t2454940.837911\t-23.396453\t1.727746\n",
      "52\t2454941.773050\t98914\t2454941.773050\t2454941.773353\t-26.220256\t0.863746\n",
      "53\t2454941.835410\t98915\t2454941.835410\t2454941.835716\t-26.466121\t2.591746\n",
      "54\t2454942.646120\t98928\t2454942.646120\t2454942.646433\t-27.070141\t0.863746\n",
      "55\t2454942.770850\t98930\t2454942.770850\t2454942.771159\t-26.697864\t0.863746\n",
      "56\t2454942.833220\t98931\t2454942.833220\t2454942.833522\t-26.079722\t0.863746\n",
      "57\t2454942.895590\t98932\t2454942.895590\t2454942.895885\t-25.461580\t2.591746\n",
      "58\t2454943.706300\t98945\t2454943.706300\t2454943.706602\t-26.065600\t0.863746\n",
      "59\t2454943.768650\t98946\t2454943.768650\t2454943.768965\t-27.175471\t0.863746\n",
      "60\t2454943.831010\t98947\t2454943.831010\t2454943.831327\t-27.421336\t1.727746\n",
      "61\t2454970.647030\t99377\t2454970.647030\t2454970.647351\t-27.729401\t3.455746\n",
      "62\t2454970.709410\t99378\t2454970.709410\t2454970.709714\t-26.247253\t3.455746\n",
      "63\t2454993.658930\t99746\t2454993.658930\t2454993.659241\t-26.864550\t1.727746\n",
      "64\t2454998.647980\t99826\t2454998.647980\t2454998.648269\t-24.932675\t1.727746\n",
      "65\t2455005.632600\t99938\t2455005.632600\t2455005.632907\t-26.547995\t2.591746\n",
      "66\t2455135.970980\t102028\t2455135.970980\t2455135.971254\t-23.705323\t1.727746\n",
      "67\t2455156.924900\t102364\t2455156.924900\t2455156.925170\t-23.367405\t1.727746\n",
      "68\t2455156.987240\t102365\t2455156.987240\t2455156.987533\t-25.341243\t1.727746\n",
      "69\t2455157.922710\t102380\t2455157.922710\t2455157.922976\t-22.981006\t2.591746\n",
      "70\t2455158.982870\t102397\t2455158.982870\t2455158.983144\t-23.704478\t1.727746\n",
      "71\t2455160.916110\t102428\t2455160.916110\t2455160.916393\t-24.413869\t1.727746\n",
      "72\t2455160.978470\t102429\t2455160.978470\t2455160.978755\t-24.659733\t1.727746\n",
      "73\t2455161.913910\t102444\t2455161.913910\t2455161.914198\t-24.891476\t1.727746\n",
      "74\t2455161.976290\t102445\t2455161.976290\t2455161.976561\t-23.409328\t2.591746\n",
      "75\t2455162.911740\t102460\t2455162.911740\t2455162.912004\t-22.777145\t2.591746\n",
      "76\t2455205.942100\t103150\t2455205.942100\t2455205.942367\t-23.070525\t0.863746\n",
      "77\t2455206.004460\t103151\t2455206.004460\t2455206.004730\t-23.316389\t0.863746\n",
      "78\t2455206.939920\t103166\t2455206.939920\t2455206.940173\t-21.820199\t0.863746\n",
      "79\t2455207.002310\t103167\t2455207.002310\t2455207.002535\t-19.474044\t1.727746\n",
      "80\t2455208.873170\t103197\t2455208.873170\t2455208.873421\t-21.665543\t1.727746\n",
      "81\t2455209.870980\t103213\t2455209.870980\t2455209.871226\t-21.279185\t0.863746\n",
      "82\t2455209.933310\t103214\t2455209.933310\t2455209.933589\t-24.117029\t1.727746\n",
      "83\t2455209.995690\t103215\t2455209.995690\t2455209.995952\t-22.634920\t0.863746\n",
      "84\t2455212.989110\t103263\t2455212.989110\t2455212.989369\t-22.339770\t1.727746\n",
      "85\t2455244.918890\t103775\t2455244.918890\t2455244.919145\t-22.071657\t0.863746\n",
      "86\t2455244.981260\t103776\t2455244.981260\t2455244.981508\t-21.453515\t1.727746\n",
      "87\t2455246.976860\t103808\t2455246.976860\t2455246.977119\t-22.408730\t1.727746\n",
      "88\t2455389.663080\t106096\t2455389.663080\t2455389.663310\t-19.860645\t1.727746\n",
      "89\t2456670.346770\t126632\t2456670.346770\t2456670.346705\t5.608137\t2.591746\n",
      "90\t2456717.368350\t127386\t2456717.368350\t2456717.368291\t5.132219\t2.591746\n",
      "91\t2456748.300370\t127882\t2456748.300370\t2456748.300262\t9.333926\t0.863746\n",
      "92\t2457100.338720\t133527\t2457100.338720\t2457100.338525\t16.863075\t2.591746\n",
      "93\t2457101.149460\t133540\t2457101.149460\t2457101.149242\t18.851034\t3.455746\n",
      "94\t2457748.288850\t143917\t2457748.288850\t2457748.288490\t31.139602\t1.727746\n",
      "95\t2457748.351190\t143918\t2457748.351190\t2457748.350852\t29.165724\t1.727746\n",
      "96\t2457802.232720\t144782\t2457802.232720\t2457802.232351\t31.886208\t2.591746\n",
      "97\t2457802.419820\t144785\t2457802.419820\t2457802.419439\t32.876627\t2.591746\n",
      "98\t2457829.360570\t145217\t2457829.360570\t2457829.360189\t32.940839\t3.455746\n",
      "99\t2458140.426470\t150205\t2458140.426470\t2458140.426062\t35.242295\t1.727746\n",
      "100\t2458200.232450\t151164\t2458200.232450\t2458200.232031\t36.206885\t2.591746\n",
      "101\t2458542.417410\t156651\t2458542.417410\t2458542.416964\t38.516548\t4.319746\n",
      "102\t2458580.084550\t157255\t2458580.084550\t2458580.084123\t36.902314\t3.455746\n",
      "103\t2458851.300610\t161604\t2458851.300610\t2458851.300138\t40.782800\t3.455746\n",
      "104\t2458870.258890\t161908\t2458870.258890\t2458870.258443\t38.620028\t3.455746\n",
      "105\t2458870.383640\t161910\t2458870.383640\t2458870.383169\t40.720318\t2.591746\n",
      "106\t2458871.194310\t161923\t2458871.194310\t2458871.193886\t36.660232\t4.319746\n",
      "107\t2458871.256750\t161924\t2458871.256750\t2458871.256249\t43.326379\t3.455746\n",
      "108\t2458873.314700\t161957\t2458873.314700\t2458873.314222\t41.261293\t2.591746\n",
      "109\t2458873.439430\t161959\t2458873.439430\t2458873.438948\t41.633570\t3.455746\n",
      "110\t2458880.174630\t162067\t2458880.174630\t2458880.174135\t42.729601\t3.455746\n",
      "111\t2458909.298030\t162534\t2458909.298030\t2458909.297584\t38.509065\t2.591746\n",
      "112\t2458926.135990\t162804\t2458926.135990\t2458926.135553\t37.793197\t4.319746\n",
      "113\t2458931.125040\t162884\t2458931.125040\t2458931.124580\t39.725071\t3.455746\n"
     ]
    }
   ],
   "source": [
    "delta_tdb_tt = 0.0013/(24*60*60)\n",
    "OC_cal = []\n",
    "#print ('-----------------------------------------------------------------------------')\n",
    "#print ('Cycle \\t\\t T_O \\t   T_C \\t\\t BJD - 2450000 \\t OC_lin OC_err_Lin OC_occ')\n",
    "print('No. \\t BJD_time \\t Cycle \\t T_O_linear \\t T_C_linear \\t OC_s \\t\\t OC_s_err')\n",
    "#print ('-----------------------------------------------------------------------------')\n",
    "for i in range (0,N_dpleo):\n",
    "    BJD_time = np.array(T_obs)+delta_tdb_tt\n",
    "    BJD_time_a[i] = BJD_time\n",
    "    Delta_T = np.array(T_obs) - np.array(T0_bjd)\n",
    "    Delta_aT[i] = Delta_T #arrays\n",
    "    Delta_T_err = np.sqrt((np.array(T_obs_err)/np.array(T_obs))**2 + (np.array(T0_bjd_err)/np.array(T0_bjd))**2)\n",
    "    E_k = Cycle\n",
    "    E_ak[i] = E_k #arrays\n",
    "    #    print (Delta_T_err[i])\n",
    "    E_f = Delta_T / P0_day                      #Calculate cycle with float number\n",
    "    ##    print (E_f)                                 #print cycle with float number\n",
    "    E_af[i] = E_f #arrays\n",
    "    E_j = np.round(Delta_T / P0_day)           #Calculate cycle with integer number\n",
    "##print (Delta_T)\n",
    "    if  E_j[i] != 0:\n",
    "        P_E_day = Delta_T[i] / E_j[i]\n",
    "        P_aE[i] = P_E_day\n",
    "        P_E_err_day = np.abs((np.array(T_obs_err[i]) - np.array(T0_bjd_err)) / E_j[i])\n",
    "        P_err_aE[i] = P_E_err_day\n",
    "        T_O_linear = T0_bjd + P_aE[i]*E_j[i]               #Linear\n",
    "        T_aO_linear[i] = T_O_linear #arrays\n",
    "    else:\n",
    "        E_k[i] = 1\n",
    "        P_E_day = Delta_T[i] / E_k[i]\n",
    "#        print (P_E_day)\n",
    "        P_aE[i] = P_E_day\n",
    "        P_E_err_day = np.abs((np.array(T_obs_err[i]) - np.array(T0_bjd_err)) / E_k[i])\n",
    "        P_err_aE[i] = P_E_err_day\n",
    "        T_O_linear = T0_bjd + P_aE[i]*E_k[i]               #Linear\n",
    "        T_aO_linear[i] = T_O_linear #arrays\n",
    "#    print ('%0.6f' %(T_O))\n",
    "#print (E_j)                                #print cycle with integer number\n",
    "    if  E_j[i] != 0:\n",
    "        P_E_day = Delta_T[i] / E_j[i]\n",
    "        P_aE[i] = P_E_day\n",
    "        P_E_err_day = np.abs((np.array(T_obs_err[i]) - np.array(T0_bjd_err)) / E_j[i])\n",
    "#        print (P_E_err_day)\n",
    "        P_err_aE[i] = P_E_err_day\n",
    "        T_C_linear = T0_bjd + P0_day*E_j[i]              #Linear\n",
    "        T_aC_linear[i] = T_C_linear #arrays\n",
    "#    print (T_O, T_C)\n",
    "        OC = np.array(T_O_linear) - np.array(T_C_linear)\n",
    "        OC_s = (np.array(T_O_linear) - np.array(T_C_linear))*24*60*60\n",
    "        OC_err = np.abs(np.sqrt((np.array(P_err_aE[i])**2 + (np.array(P0_day_err)**2))) * np.array(E_j[i]))\n",
    "#        print (OC_err)\n",
    "        OC_s_err = OC_err*24*60*60\n",
    "    else:\n",
    "        P_E_day = Delta_T[i] / E_k[i]\n",
    "        P_aE[i] = P_E_day\n",
    "        P_E_err_day = np.abs((np.array(T_obs_err[i]) - np.array(T0_bjd_err)) / E_k[i])\n",
    "        P_err_aE[i] = P_E_err_day\n",
    "        T_C_linear = T0_bjd + P0_day*E_j[i]              #Linear\n",
    "        T_aC_linear[i] = T_C_linear #arrays\n",
    "#    print (T_O, T_C)\n",
    "        OC = np.array(T_O_linear) - np.array(T_C_linear)\n",
    "        OC_s = (np.array(T_O_linear) - np.array(T_C_linear))*24*60*60\n",
    "        OC_err = np.abs(np.sqrt((np.array(P_err_aE[i])**2)) *np.array(E_k[i]))\n",
    "#        print (OC_err)\n",
    "        OC_s_err = OC_err*24*60*60\n",
    "    print ('%0.0f\\t%0.6f\\t%0.0f\\t%0.6f\\t%0.6f\\t%0.6f\\t%0.6f' %(i, BJD_time[i], Cycle[i], T_O_linear, T_C_linear, OC_s, OC_s_err))\n",
    "    OC_cal.append('%0.6f\\t%0.0f\\t%0.6f\\t%0.6f\\t%0.6f\\t%0.6f' %(BJD_time[i], Cycle[i], T_O_linear, T_C_linear, OC_s, OC_s_err))\n",
    "\n",
    "#P_aver = mean(P_aE[i])\n",
    "#P_aver_a[i] = P_aver\n",
    "#P_aver_std = np.std(P_aE[i])\n",
    "#P_aver_std = mean(P_err_aE[i])\n",
    "#P_aver_std_a[i] = P_aver_std\n",
    "#print('%0.11f %0.11f' %(P_aver, P_aver_std))\n",
    "\n",
    "rerults = OC_cal\n",
    "f = open(\"2022_Feb_week4_OC_diagram.out\", 'w')\n",
    "for i in range(len(rerults)):\n",
    "    f.write(str(rerults[i])+ '\\n')\n",
    "f.close()"
   ]
  },
  {
   "cell_type": "code",
   "execution_count": 7,
   "id": "40fe36ee",
   "metadata": {},
   "outputs": [
    {
     "data": {
      "image/png": "[encoded data removed]",
      "text/plain": [
       "<Figure size 720x360 with 1 Axes>"
      ]
     },
     "metadata": {
      "needs_background": "light"
     },
     "output_type": "display_data"
    }
   ],
   "source": [
    "#Plot O-C vs BJD\n",
    "Input  = '2022_Feb_week4_OC_diagram.out'\n",
    "Data   = np.genfromtxt(Input)\n",
    "\n",
    "N = 2450000\n",
    "BJD_time = Data[:,0] - N\n",
    "Cycle = Data[:,1]\n",
    "T_O_linear = Data[:,2]\n",
    "T_C_linear = Data[:,3]\n",
    "OC_s = Data[:,4]\n",
    "OC_s_err = Data[:,5]\n",
    "\n",
    " ##Plotgraph\n",
    "fig=plt.figure(figsize=(10, 5), tight_layout=True)\n",
    "plt.tick_params(direction='in', which='both', bottom='on',top='on', right = 'on')\n",
    "\n",
    "x1 = min(BJD_time)\n",
    "x2 = max(BJD_time)\n",
    "#plt.errorbar(BJD_time, OC_s, yerr=OC_s_err, fmt='o', color='limegreen')\n",
    "plt.errorbar(BJD_time, OC_s, yerr= OC_s_err, fmt='o', markersize=8, color='green',\n",
    "                    ecolor='lightgray')\n",
    "\n",
    "#Schwope_2002\n",
    "#plt.text(BJD_time_Schwope_2002[0], 300, '1979')\n",
    "#plt.text(BJD_time_Schwope_2002[3], 300, '1981')\n",
    "#plt.text(BJD_time_Schwope_2002[13], 300, '1984')\n",
    "#plt.text(BJD_time_Schwope_2002[17], 300, '1985')\n",
    "#plt.text(BJD_time_Schwope_2002[19]-100, 300, '1991')\n",
    "#plt.text(BJD_time_Schwope_2002[20], 300, '1992')\n",
    "#plt.text(BJD_time_Schwope_2002[22], 300, '1993')\n",
    "#plt.text(BJD_time_Schwope_2002[30], 300, '2000')\n",
    "#plt.text(BJD_time_Schwope_2002[32], 300, '2002')\n",
    "\n",
    "#plt.hlines(y= 0, xmin= x1, xmax= x2, colors='k', linestyles='dotted')\n",
    "#plt.xlim(x1,x2)\n",
    "#plt.ylim(-20,20)\n",
    "plt.xlabel('BJD - 2450000')\n",
    "plt.ylabel('O-C (sec)')\n",
    "#plt.legend()\n",
    "plt.grid(linestyle='dotted')\n",
    "######plt.title('O-C diagram: DP Leo')\n",
    "#output_filename = os.path.splitext(__file__)[0] + '.png'\n",
    "#plt.savefig(output_filename, dpi=1000)\n",
    "plt.savefig(\"2022_Feb_week4_OC_diagram.jpg\", dpi=1000)\n",
    "plt.show()"
   ]
  },
  {
   "cell_type": "code",
   "execution_count": 8,
   "id": "a027fe43",
   "metadata": {},
   "outputs": [],
   "source": [
    "#Read data ---#1\n",
    "Input = \"2022_Feb_week4_OC_diagram.out\"\n",
    "Data   = np.genfromtxt(Input)\n",
    "\n",
    "Epoch = Data[:,1]\n",
    "OC = Data[:,4]\n",
    "OC_err = Data[:,5]"
   ]
  },
  {
   "cell_type": "code",
   "execution_count": 9,
   "id": "4accc2ea",
   "metadata": {},
   "outputs": [
    {
     "name": "stdout",
     "output_type": "stream",
     "text": [
      "114\n"
     ]
    }
   ],
   "source": [
    "x = Epoch\n",
    "y = OC\n",
    "dy = OC_err\n",
    "\n",
    "len_x = len(x)\n",
    "print(len_x)"
   ]
  },
  {
   "cell_type": "code",
   "execution_count": 10,
   "id": "f1597514",
   "metadata": {},
   "outputs": [],
   "source": [
    "def sin_fitting_lmfit(params, x, y):\n",
    "    a = params['a']\n",
    "    b = params['b']\n",
    "    c = params['c']\n",
    "    d = params['d']\n",
    "    y_fit = a*np.sin(b*x - c) + d\n",
    "    return y_fit - y"
   ]
  },
  {
   "cell_type": "code",
   "execution_count": 110,
   "id": "4305a736",
   "metadata": {},
   "outputs": [],
   "source": [
    "# Defining the various parameters\n",
    "params = Parameters()\n",
    "\n",
    "# Intercept is made fixed at 0.0 value\n",
    "params.add('a', value=41, vary = True)\n",
    "params.add('b', min=0.00003, max=0.00005)\n",
    "params.add('c', min=-145, max=-144)\n",
    "params.add('d', min=-6, max=-4)"
   ]
  },
  {
   "cell_type": "code",
   "execution_count": 111,
   "id": "8b1d778f",
   "metadata": {},
   "outputs": [],
   "source": [
    "# Calling the minimize function. Args contains the x and y data.\n",
    "fitted_params = minimize(sin_fitting_lmfit, params, args=(x,y,), method='least_squares')"
   ]
  },
  {
   "cell_type": "code",
   "execution_count": 112,
   "id": "cd6cb5dd",
   "metadata": {},
   "outputs": [],
   "source": [
    "# Getting the fitted values\n",
    "a = fitted_params.params['a'].value\n",
    "b = fitted_params.params['b'].value    \n",
    "c = fitted_params.params['c'].value\n",
    "d = fitted_params.params['d'].value"
   ]
  },
  {
   "cell_type": "code",
   "execution_count": 113,
   "id": "681de93a",
   "metadata": {},
   "outputs": [
    {
     "name": "stdout",
     "output_type": "stream",
     "text": [
      "a is  -41.81619029779052\n",
      "b is  3.178857462472306e-05\n",
      "c is  -144.0000000001414\n",
      "d is  -5.999999999993662\n"
     ]
    }
   ],
   "source": [
    "# Printing the fitted values\n",
    "print('a is ', a)\n",
    "print('b is ', b)\n",
    "print('c is ', c)\n",
    "print('d is ', d)"
   ]
  },
  {
   "cell_type": "code",
   "execution_count": 114,
   "id": "7bc04e73",
   "metadata": {},
   "outputs": [
    {
     "name": "stdout",
     "output_type": "stream",
     "text": [
      "[[Fit Statistics]]\n",
      "    # fitting method   = least_squares\n",
      "    # function evals   = 11\n",
      "    # data points      = 114\n",
      "    # variables        = 4\n",
      "    chi-square         = 60742.5436\n",
      "    reduced chi-square = 552.204942\n",
      "    Akaike info crit   = 723.714933\n",
      "    Bayesian info crit = 734.659727\n",
      "[[Variables]]\n",
      "    a: -41.8161903 +/- 4.16106965 (9.95%) (init = 41)\n",
      "    b:  3.1789e-05 +/- 1.2408e-06 (3.90%) (init = 3e-05)\n",
      "    c: -144.000000 +/- 0.10695106 (0.07%) (init = -145)\n",
      "    d: -6.00000000 +/- 3.45833329 (57.64%) (init = -6)\n",
      "[[Correlations]] (unreported correlations are < 0.100)\n",
      "    C(a, d) = 0.454\n",
      "    C(b, c) = 0.448\n",
      "    C(b, d) = -0.441\n",
      "    C(a, b) = -0.426\n",
      "    C(c, d) = 0.362\n"
     ]
    }
   ],
   "source": [
    "# Pretty printing all the statistical data\n",
    "print(fit_report(fitted_params))"
   ]
  },
  {
   "cell_type": "code",
   "execution_count": 116,
   "id": "1cc70544",
   "metadata": {},
   "outputs": [
    {
     "data": {
      "image/png": "[encoded data removed]",
      "text/plain": [
       "<Figure size 720x360 with 1 Axes>"
      ]
     },
     "metadata": {
      "needs_background": "light"
     },
     "output_type": "display_data"
    }
   ],
   "source": [
    "#Plotgraph\n",
    "fig=plt.figure(figsize=(10, 5))\n",
    "plt.errorbar(x, y, yerr= dy, fmt='o', markersize=8, color='blue', ecolor='lightgray')\n",
    "# create a line plot for the mapping function\n",
    "\n",
    "plt.plot(x, a*np.sin(b*x - c) + d,c='red',ls='-',lw=1)\n",
    "#plt.plot(x_line, y_line, '-', color='red')\n",
    "#plt.plot(BJD_time, OC_s_ecc, lw=2, color='black')\n",
    "#plt.xlim(-6000,6000)\n",
    "#plt.ylim(-200,200)\n",
    "#plt.ylim(-40,60)\n",
    "plt.xlabel('Epoch')\n",
    "plt.ylabel('O-C (sec)')\n",
    "plt.grid(linestyle='dotted')\n",
    "#####plt.title('O-C diagram: DP Leo')\n",
    "#output_filename = os.path.splitext(__file__)[0] + '.png'\n",
    "#plt.savefig(output_filename, dpi=1000)\n",
    "plt.show()"
   ]
  },
  {
   "cell_type": "code",
   "execution_count": null,
   "id": "376c439c",
   "metadata": {},
   "outputs": [],
   "source": []
  }
 ],
 "metadata": {
  "kernelspec": {
   "display_name": "Python 3 (ipykernel)",
   "language": "python",
   "name": "python3"
  },
  "language_info": {
   "codemirror_mode": {
    "name": "ipython",
    "version": 3
   },
   "file_extension": ".py",
   "mimetype": "text/x-python",
   "name": "python",
   "nbconvert_exporter": "python",
   "pygments_lexer": "ipython3",
   "version": "3.9.7"
  }
 },
 "nbformat": 4,
 "nbformat_minor": 5
}
